{
 "cells": [
  {
   "cell_type": "code",
   "execution_count": 28,
   "metadata": {},
   "outputs": [],
   "source": [
    "from selenium import webdriver\n",
    "from selenium.webdriver.common.keys import Keys\n",
    "import pandas as pd\n",
    "import numpy as np\n",
    "import urllib"
   ]
  },
  {
   "cell_type": "code",
   "execution_count": null,
   "metadata": {},
   "outputs": [],
   "source": [
    "# First of all lets load categories that we need to find on a map\n",
    "word_requests = pd.read_excel('categories.xlsx', index_col=None)\n",
    "word_requests = np.array(word_requests['categories'])"
   ]
  },
  {
   "cell_type": "code",
   "execution_count": 132,
   "metadata": {},
   "outputs": [],
   "source": [
    "# Next we open browser and the website\n",
    "driver = webdriver.Chrome('chromedriver.exe')\n",
    "driver.get('https://2gis.ru/astrakhan/')"
   ]
  },
  {
   "cell_type": "code",
   "execution_count": 168,
   "metadata": {},
   "outputs": [],
   "source": [
    "# Define search bar to pass requests\n",
    "search_bar = driver.find_element_by_class_name('_1yz01i6')"
   ]
  },
  {
   "cell_type": "markdown",
   "metadata": {},
   "source": [
    "### Testing selenium scraping"
   ]
  },
  {
   "cell_type": "code",
   "execution_count": 169,
   "metadata": {},
   "outputs": [],
   "source": [
    "# Now lets test searching\n",
    "search_bar.send_keys(word_requests[0])\n",
    "search_bar.send_keys(Keys.ENTER)"
   ]
  },
  {
   "cell_type": "code",
   "execution_count": 171,
   "metadata": {
    "scrolled": true
   },
   "outputs": [
    {
     "name": "stdout",
     "output_type": "stream",
     "text": [
      "9.0\n"
     ]
    }
   ],
   "source": [
    "# So now we have a list of all organizations that relate to this category. \n",
    "# There are many pages. We will have to go through all of them.\n",
    "# First of all, lets count pages (to understand how many iterations will be)\n",
    "num_of_pages = np.ceil(int(driver.find_element_by_class_name('_1cho7kd9').text) / 12)\n",
    "print(num_of_pages)"
   ]
  },
  {
   "cell_type": "code",
   "execution_count": 172,
   "metadata": {
    "scrolled": true
   },
   "outputs": [],
   "source": [
    "# Now we need to switch between them\n",
    "button = driver.find_element_by_link_text('2')\n",
    "button.click()"
   ]
  },
  {
   "cell_type": "code",
   "execution_count": 177,
   "metadata": {
    "scrolled": true
   },
   "outputs": [
    {
     "name": "stdout",
     "output_type": "stream",
     "text": [
      "Газпром\n",
      "Лукойл-Югнефтепродукт\n",
      "Эктоойл\n",
      "Аст-Петрол\n",
      "ИП Тагивердиев И.А.\n",
      "Транс Ойл\n",
      "Газэнергосеть Поволжье\n",
      "Технотэк\n",
      "Джихангир\n",
      "ГРАНАТ\n",
      "777\n",
      "Астрагаз\n"
     ]
    }
   ],
   "source": [
    "# Lets identify all organizations\n",
    "orgs = driver.find_elements_by_class_name('_1h3cgic')\n",
    "\n",
    "for i in orgs:\n",
    "    print(i.text)"
   ]
  },
  {
   "cell_type": "code",
   "execution_count": 114,
   "metadata": {},
   "outputs": [],
   "source": [
    "# Lets click on the first org\n",
    "orgs[0].click()"
   ]
  },
  {
   "cell_type": "code",
   "execution_count": 160,
   "metadata": {},
   "outputs": [
    {
     "name": "stdout",
     "output_type": "stream",
     "text": [
      "ИП Романов А.Г.\n",
      "Черниговская 4-я, 1Б\n",
      "Черниговская 4-я, 1Б\n",
      "Ленинский район, Астрахань, 414032\n",
      "1 этаж\n",
      "Показать на карте\n",
      "Рассмотреть\n",
      "Круглосуточно\n"
     ]
    }
   ],
   "source": [
    "# We need:\n",
    "# - name of the organization\n",
    "name = driver.find_element_by_class_name('_1r7sat2').text\n",
    "print(name)\n",
    "\n",
    "# - address\n",
    "address = driver.find_element_by_class_name('_er2xx9').text\n",
    "print(address)\n",
    "\n",
    "# - location in a building (floor)\n",
    "floor = driver.find_element_by_class_name('_13eh3hvq').text\n",
    "print(floor) # have to clean this\n",
    "\n",
    "# - working time\n",
    "worktime = driver.find_element_by_class_name('_18zamfw').text\n",
    "print(worktime)"
   ]
  },
  {
   "cell_type": "code",
   "execution_count": 140,
   "metadata": {
    "scrolled": true
   },
   "outputs": [
    {
     "data": {
      "text/html": [
       "<div>\n",
       "<style scoped>\n",
       "    .dataframe tbody tr th:only-of-type {\n",
       "        vertical-align: middle;\n",
       "    }\n",
       "\n",
       "    .dataframe tbody tr th {\n",
       "        vertical-align: top;\n",
       "    }\n",
       "\n",
       "    .dataframe thead th {\n",
       "        text-align: right;\n",
       "    }\n",
       "</style>\n",
       "<table border=\"1\" class=\"dataframe\">\n",
       "  <thead>\n",
       "    <tr style=\"text-align: right;\">\n",
       "      <th></th>\n",
       "      <th>organization</th>\n",
       "      <th>address</th>\n",
       "      <th>floor</th>\n",
       "      <th>worktime</th>\n",
       "    </tr>\n",
       "  </thead>\n",
       "  <tbody>\n",
       "    <tr>\n",
       "      <td>0</td>\n",
       "      <td>Мецар</td>\n",
       "      <td>Пушкина, 46г</td>\n",
       "      <td>Пушкина, 46г\\nТрусовский район, Астрахань, 414...</td>\n",
       "      <td>Круглосуточно</td>\n",
       "    </tr>\n",
       "  </tbody>\n",
       "</table>\n",
       "</div>"
      ],
      "text/plain": [
       "  organization       address  \\\n",
       "0        Мецар  Пушкина, 46г   \n",
       "\n",
       "                                               floor       worktime  \n",
       "0  Пушкина, 46г\\nТрусовский район, Астрахань, 414...  Круглосуточно  "
      ]
     },
     "execution_count": 140,
     "metadata": {},
     "output_type": "execute_result"
    }
   ],
   "source": [
    "df = pd.DataFrame({'organization': [name], 'address': [address], 'floor': [floor], 'worktime': [worktime]})\n",
    "df.head()"
   ]
  },
  {
   "cell_type": "code",
   "execution_count": 131,
   "metadata": {},
   "outputs": [],
   "source": [
    "driver.close()"
   ]
  },
  {
   "cell_type": "code",
   "execution_count": null,
   "metadata": {},
   "outputs": [],
   "source": [
    "# Potential risks:\n",
    "# - structure of pages will differ depending on each category of organizations\n",
    "# else?"
   ]
  },
  {
   "cell_type": "markdown",
   "metadata": {},
   "source": [
    "### Beta version for-loop"
   ]
  },
  {
   "cell_type": "code",
   "execution_count": null,
   "metadata": {},
   "outputs": [],
   "source": [
    "# First we iterate over categories\n",
    "# Second we iterate over pages\n",
    "# Third we iterate over organizations"
   ]
  },
  {
   "cell_type": "code",
   "execution_count": null,
   "metadata": {},
   "outputs": [],
   "source": []
  },
  {
   "cell_type": "code",
   "execution_count": 178,
   "metadata": {},
   "outputs": [],
   "source": [
    "df = pd.DataFrame(columns=['organization', 'address', 'floor', 'worktime'])\n",
    "\n",
    "for i in np.arange(12):\n",
    "    orgs[i].click()\n",
    "    \n",
    "    name = driver.find_element_by_class_name('_1r7sat2').text\n",
    "    address = driver.find_element_by_class_name('_er2xx9').text\n",
    "    driver.find_element_by_class_name('_13eh3hvq').text\n",
    "    worktime = driver.find_element_by_class_name('_18zamfw').text\n",
    "\n",
    "    df_temp = pd.DataFrame({'organization': [name], 'address': [address], 'floor': [floor], 'worktime': [worktime]})\n",
    "    df = df.append(df_temp)"
   ]
  },
  {
   "cell_type": "code",
   "execution_count": 179,
   "metadata": {},
   "outputs": [
    {
     "data": {
      "text/html": [
       "<div>\n",
       "<style scoped>\n",
       "    .dataframe tbody tr th:only-of-type {\n",
       "        vertical-align: middle;\n",
       "    }\n",
       "\n",
       "    .dataframe tbody tr th {\n",
       "        vertical-align: top;\n",
       "    }\n",
       "\n",
       "    .dataframe thead th {\n",
       "        text-align: right;\n",
       "    }\n",
       "</style>\n",
       "<table border=\"1\" class=\"dataframe\">\n",
       "  <thead>\n",
       "    <tr style=\"text-align: right;\">\n",
       "      <th></th>\n",
       "      <th>organization</th>\n",
       "      <th>address</th>\n",
       "      <th>floor</th>\n",
       "      <th>worktime</th>\n",
       "    </tr>\n",
       "  </thead>\n",
       "  <tbody>\n",
       "    <tr>\n",
       "      <td>0</td>\n",
       "      <td>Спецавтогаз</td>\n",
       "      <td>Брестская, 34/1</td>\n",
       "      <td>Черниговская 4-я, 1Б\\nЛенинский район, Астраха...</td>\n",
       "      <td>Круглосуточно</td>\n",
       "    </tr>\n",
       "    <tr>\n",
       "      <td>0</td>\n",
       "      <td>Спецавтогаз</td>\n",
       "      <td>Брестская, 34/1</td>\n",
       "      <td>Черниговская 4-я, 1Б\\nЛенинский район, Астраха...</td>\n",
       "      <td>Круглосуточно</td>\n",
       "    </tr>\n",
       "    <tr>\n",
       "      <td>0</td>\n",
       "      <td>Спецавтогаз</td>\n",
       "      <td>Брестская, 34/1</td>\n",
       "      <td>Черниговская 4-я, 1Б\\nЛенинский район, Астраха...</td>\n",
       "      <td>Круглосуточно</td>\n",
       "    </tr>\n",
       "    <tr>\n",
       "      <td>0</td>\n",
       "      <td>Спецавтогаз</td>\n",
       "      <td>Брестская, 34/1</td>\n",
       "      <td>Черниговская 4-я, 1Б\\nЛенинский район, Астраха...</td>\n",
       "      <td>Круглосуточно</td>\n",
       "    </tr>\n",
       "    <tr>\n",
       "      <td>0</td>\n",
       "      <td>Спецавтогаз</td>\n",
       "      <td>Брестская, 34/1</td>\n",
       "      <td>Черниговская 4-я, 1Б\\nЛенинский район, Астраха...</td>\n",
       "      <td>Круглосуточно</td>\n",
       "    </tr>\n",
       "  </tbody>\n",
       "</table>\n",
       "</div>"
      ],
      "text/plain": [
       "  organization          address  \\\n",
       "0  Спецавтогаз  Брестская, 34/1   \n",
       "0  Спецавтогаз  Брестская, 34/1   \n",
       "0  Спецавтогаз  Брестская, 34/1   \n",
       "0  Спецавтогаз  Брестская, 34/1   \n",
       "0  Спецавтогаз  Брестская, 34/1   \n",
       "\n",
       "                                               floor       worktime  \n",
       "0  Черниговская 4-я, 1Б\\nЛенинский район, Астраха...  Круглосуточно  \n",
       "0  Черниговская 4-я, 1Б\\nЛенинский район, Астраха...  Круглосуточно  \n",
       "0  Черниговская 4-я, 1Б\\nЛенинский район, Астраха...  Круглосуточно  \n",
       "0  Черниговская 4-я, 1Б\\nЛенинский район, Астраха...  Круглосуточно  \n",
       "0  Черниговская 4-я, 1Б\\nЛенинский район, Астраха...  Круглосуточно  "
      ]
     },
     "execution_count": 179,
     "metadata": {},
     "output_type": "execute_result"
    }
   ],
   "source": [
    "df.head()"
   ]
  },
  {
   "cell_type": "code",
   "execution_count": null,
   "metadata": {},
   "outputs": [],
   "source": []
  },
  {
   "cell_type": "code",
   "execution_count": null,
   "metadata": {},
   "outputs": [],
   "source": []
  }
 ],
 "metadata": {
  "kernelspec": {
   "display_name": "Python 3",
   "language": "python",
   "name": "python3"
  },
  "language_info": {
   "codemirror_mode": {
    "name": "ipython",
    "version": 3
   },
   "file_extension": ".py",
   "mimetype": "text/x-python",
   "name": "python",
   "nbconvert_exporter": "python",
   "pygments_lexer": "ipython3",
   "version": "3.7.4"
  }
 },
 "nbformat": 4,
 "nbformat_minor": 2
}
